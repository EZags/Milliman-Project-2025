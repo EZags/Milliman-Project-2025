{
 "cells": [
  {
   "cell_type": "code",
   "execution_count": 14,
   "metadata": {},
   "outputs": [],
   "source": [
    "import pandas as pd\n",
    "from IPython.core.interactiveshell import InteractiveShell\n",
    "InteractiveShell.ast_node_interactivity = \"all\"\n",
    "import matplotlib.pyplot as plt"
   ]
  },
  {
   "cell_type": "code",
   "execution_count": 15,
   "metadata": {},
   "outputs": [
    {
     "data": {
      "application/vnd.microsoft.datawrangler.viewer.v0+json": {
       "columns": [
        {
         "name": "index",
         "rawType": "int64",
         "type": "integer"
        },
        {
         "name": "population",
         "rawType": "object",
         "type": "string"
        },
        {
         "name": "year",
         "rawType": "int64",
         "type": "integer"
        },
        {
         "name": "geography",
         "rawType": "object",
         "type": "string"
        },
        {
         "name": "measure",
         "rawType": "object",
         "type": "string"
        },
        {
         "name": "adjustment",
         "rawType": "object",
         "type": "string"
        },
        {
         "name": "analysis",
         "rawType": "object",
         "type": "string"
        },
        {
         "name": "domain",
         "rawType": "object",
         "type": "string"
        },
        {
         "name": "condition",
         "rawType": "object",
         "type": "string"
        },
        {
         "name": "primary_sex",
         "rawType": "object",
         "type": "string"
        },
        {
         "name": "primary_age",
         "rawType": "object",
         "type": "string"
        },
        {
         "name": "primary_dual",
         "rawType": "object",
         "type": "string"
        },
        {
         "name": "fips",
         "rawType": "int64",
         "type": "integer"
        },
        {
         "name": "county",
         "rawType": "object",
         "type": "string"
        },
        {
         "name": "state",
         "rawType": "object",
         "type": "string"
        },
        {
         "name": "urban",
         "rawType": "object",
         "type": "string"
        },
        {
         "name": "primary_race",
         "rawType": "object",
         "type": "string"
        },
        {
         "name": "primary_eligibility",
         "rawType": "object",
         "type": "string"
        },
        {
         "name": "primary_denominator",
         "rawType": "object",
         "type": "string"
        },
        {
         "name": "analysis_value",
         "rawType": "int64",
         "type": "integer"
        }
       ],
       "conversionMethod": "pd.DataFrame",
       "ref": "6e26e29d-b4f3-4a2c-96f2-3e71092674ea",
       "rows": [
        [
         "0",
         "Medicare Fee For Service",
         "2023",
         "County",
         "Prevalence",
         "Unsmoothed actual",
         "Base measure",
         "Primary chronic conditions",
         "Depression",
         "All",
         "All",
         "Dual & non-dual",
         "1001",
         "Autauga County",
         "ALABAMA",
         "Urban",
         "All",
         "All",
         "1,000-4,999",
         "18"
        ],
        [
         "1",
         "Medicare Fee For Service",
         "2023",
         "County",
         "Prevalence",
         "Unsmoothed actual",
         "Base measure",
         "Primary chronic conditions",
         "Depression",
         "All",
         "All",
         "Dual & non-dual",
         "1003",
         "Baldwin County",
         "ALABAMA",
         "Rural",
         "All",
         "All",
         "10,000+",
         "18"
        ],
        [
         "2",
         "Medicare Fee For Service",
         "2023",
         "County",
         "Prevalence",
         "Unsmoothed actual",
         "Base measure",
         "Primary chronic conditions",
         "Depression",
         "All",
         "All",
         "Dual & non-dual",
         "1005",
         "Barbour County",
         "ALABAMA",
         "Rural",
         "All",
         "All",
         "1,000-4,999",
         "19"
        ],
        [
         "3",
         "Medicare Fee For Service",
         "2023",
         "County",
         "Prevalence",
         "Unsmoothed actual",
         "Base measure",
         "Primary chronic conditions",
         "Depression",
         "All",
         "All",
         "Dual & non-dual",
         "1007",
         "Bibb County",
         "ALABAMA",
         "Urban",
         "All",
         "All",
         "1,000-4,999",
         "24"
        ],
        [
         "4",
         "Medicare Fee For Service",
         "2023",
         "County",
         "Prevalence",
         "Unsmoothed actual",
         "Base measure",
         "Primary chronic conditions",
         "Depression",
         "All",
         "All",
         "Dual & non-dual",
         "1009",
         "Blount County",
         "ALABAMA",
         "Urban",
         "All",
         "All",
         "1,000-4,999",
         "22"
        ]
       ],
       "shape": {
        "columns": 19,
        "rows": 5
       }
      },
      "text/html": [
       "<div>\n",
       "<style scoped>\n",
       "    .dataframe tbody tr th:only-of-type {\n",
       "        vertical-align: middle;\n",
       "    }\n",
       "\n",
       "    .dataframe tbody tr th {\n",
       "        vertical-align: top;\n",
       "    }\n",
       "\n",
       "    .dataframe thead th {\n",
       "        text-align: right;\n",
       "    }\n",
       "</style>\n",
       "<table border=\"1\" class=\"dataframe\">\n",
       "  <thead>\n",
       "    <tr style=\"text-align: right;\">\n",
       "      <th></th>\n",
       "      <th>population</th>\n",
       "      <th>year</th>\n",
       "      <th>geography</th>\n",
       "      <th>measure</th>\n",
       "      <th>adjustment</th>\n",
       "      <th>analysis</th>\n",
       "      <th>domain</th>\n",
       "      <th>condition</th>\n",
       "      <th>primary_sex</th>\n",
       "      <th>primary_age</th>\n",
       "      <th>primary_dual</th>\n",
       "      <th>fips</th>\n",
       "      <th>county</th>\n",
       "      <th>state</th>\n",
       "      <th>urban</th>\n",
       "      <th>primary_race</th>\n",
       "      <th>primary_eligibility</th>\n",
       "      <th>primary_denominator</th>\n",
       "      <th>analysis_value</th>\n",
       "    </tr>\n",
       "  </thead>\n",
       "  <tbody>\n",
       "    <tr>\n",
       "      <th>0</th>\n",
       "      <td>Medicare Fee For Service</td>\n",
       "      <td>2023</td>\n",
       "      <td>County</td>\n",
       "      <td>Prevalence</td>\n",
       "      <td>Unsmoothed actual</td>\n",
       "      <td>Base measure</td>\n",
       "      <td>Primary chronic conditions</td>\n",
       "      <td>Depression</td>\n",
       "      <td>All</td>\n",
       "      <td>All</td>\n",
       "      <td>Dual &amp; non-dual</td>\n",
       "      <td>1001</td>\n",
       "      <td>Autauga County</td>\n",
       "      <td>ALABAMA</td>\n",
       "      <td>Urban</td>\n",
       "      <td>All</td>\n",
       "      <td>All</td>\n",
       "      <td>1,000-4,999</td>\n",
       "      <td>18</td>\n",
       "    </tr>\n",
       "    <tr>\n",
       "      <th>1</th>\n",
       "      <td>Medicare Fee For Service</td>\n",
       "      <td>2023</td>\n",
       "      <td>County</td>\n",
       "      <td>Prevalence</td>\n",
       "      <td>Unsmoothed actual</td>\n",
       "      <td>Base measure</td>\n",
       "      <td>Primary chronic conditions</td>\n",
       "      <td>Depression</td>\n",
       "      <td>All</td>\n",
       "      <td>All</td>\n",
       "      <td>Dual &amp; non-dual</td>\n",
       "      <td>1003</td>\n",
       "      <td>Baldwin County</td>\n",
       "      <td>ALABAMA</td>\n",
       "      <td>Rural</td>\n",
       "      <td>All</td>\n",
       "      <td>All</td>\n",
       "      <td>10,000+</td>\n",
       "      <td>18</td>\n",
       "    </tr>\n",
       "    <tr>\n",
       "      <th>2</th>\n",
       "      <td>Medicare Fee For Service</td>\n",
       "      <td>2023</td>\n",
       "      <td>County</td>\n",
       "      <td>Prevalence</td>\n",
       "      <td>Unsmoothed actual</td>\n",
       "      <td>Base measure</td>\n",
       "      <td>Primary chronic conditions</td>\n",
       "      <td>Depression</td>\n",
       "      <td>All</td>\n",
       "      <td>All</td>\n",
       "      <td>Dual &amp; non-dual</td>\n",
       "      <td>1005</td>\n",
       "      <td>Barbour County</td>\n",
       "      <td>ALABAMA</td>\n",
       "      <td>Rural</td>\n",
       "      <td>All</td>\n",
       "      <td>All</td>\n",
       "      <td>1,000-4,999</td>\n",
       "      <td>19</td>\n",
       "    </tr>\n",
       "    <tr>\n",
       "      <th>3</th>\n",
       "      <td>Medicare Fee For Service</td>\n",
       "      <td>2023</td>\n",
       "      <td>County</td>\n",
       "      <td>Prevalence</td>\n",
       "      <td>Unsmoothed actual</td>\n",
       "      <td>Base measure</td>\n",
       "      <td>Primary chronic conditions</td>\n",
       "      <td>Depression</td>\n",
       "      <td>All</td>\n",
       "      <td>All</td>\n",
       "      <td>Dual &amp; non-dual</td>\n",
       "      <td>1007</td>\n",
       "      <td>Bibb County</td>\n",
       "      <td>ALABAMA</td>\n",
       "      <td>Urban</td>\n",
       "      <td>All</td>\n",
       "      <td>All</td>\n",
       "      <td>1,000-4,999</td>\n",
       "      <td>24</td>\n",
       "    </tr>\n",
       "    <tr>\n",
       "      <th>4</th>\n",
       "      <td>Medicare Fee For Service</td>\n",
       "      <td>2023</td>\n",
       "      <td>County</td>\n",
       "      <td>Prevalence</td>\n",
       "      <td>Unsmoothed actual</td>\n",
       "      <td>Base measure</td>\n",
       "      <td>Primary chronic conditions</td>\n",
       "      <td>Depression</td>\n",
       "      <td>All</td>\n",
       "      <td>All</td>\n",
       "      <td>Dual &amp; non-dual</td>\n",
       "      <td>1009</td>\n",
       "      <td>Blount County</td>\n",
       "      <td>ALABAMA</td>\n",
       "      <td>Urban</td>\n",
       "      <td>All</td>\n",
       "      <td>All</td>\n",
       "      <td>1,000-4,999</td>\n",
       "      <td>22</td>\n",
       "    </tr>\n",
       "  </tbody>\n",
       "</table>\n",
       "</div>"
      ],
      "text/plain": [
       "                 population  year geography     measure         adjustment  \\\n",
       "0  Medicare Fee For Service  2023    County  Prevalence  Unsmoothed actual   \n",
       "1  Medicare Fee For Service  2023    County  Prevalence  Unsmoothed actual   \n",
       "2  Medicare Fee For Service  2023    County  Prevalence  Unsmoothed actual   \n",
       "3  Medicare Fee For Service  2023    County  Prevalence  Unsmoothed actual   \n",
       "4  Medicare Fee For Service  2023    County  Prevalence  Unsmoothed actual   \n",
       "\n",
       "       analysis                      domain   condition primary_sex  \\\n",
       "0  Base measure  Primary chronic conditions  Depression         All   \n",
       "1  Base measure  Primary chronic conditions  Depression         All   \n",
       "2  Base measure  Primary chronic conditions  Depression         All   \n",
       "3  Base measure  Primary chronic conditions  Depression         All   \n",
       "4  Base measure  Primary chronic conditions  Depression         All   \n",
       "\n",
       "  primary_age     primary_dual  fips          county    state  urban  \\\n",
       "0         All  Dual & non-dual  1001  Autauga County  ALABAMA  Urban   \n",
       "1         All  Dual & non-dual  1003  Baldwin County  ALABAMA  Rural   \n",
       "2         All  Dual & non-dual  1005  Barbour County  ALABAMA  Rural   \n",
       "3         All  Dual & non-dual  1007     Bibb County  ALABAMA  Urban   \n",
       "4         All  Dual & non-dual  1009   Blount County  ALABAMA  Urban   \n",
       "\n",
       "  primary_race primary_eligibility primary_denominator  analysis_value  \n",
       "0          All                 All         1,000-4,999              18  \n",
       "1          All                 All             10,000+              18  \n",
       "2          All                 All         1,000-4,999              19  \n",
       "3          All                 All         1,000-4,999              24  \n",
       "4          All                 All         1,000-4,999              22  "
      ]
     },
     "execution_count": 15,
     "metadata": {},
     "output_type": "execute_result"
    },
    {
     "name": "stdout",
     "output_type": "stream",
     "text": [
      "<class 'pandas.core.frame.DataFrame'>\n",
      "RangeIndex: 3241 entries, 0 to 3240\n",
      "Data columns (total 19 columns):\n",
      " #   Column               Non-Null Count  Dtype \n",
      "---  ------               --------------  ----- \n",
      " 0   population           3241 non-null   object\n",
      " 1   year                 3241 non-null   int64 \n",
      " 2   geography            3241 non-null   object\n",
      " 3   measure              3241 non-null   object\n",
      " 4   adjustment           3241 non-null   object\n",
      " 5   analysis             3241 non-null   object\n",
      " 6   domain               3241 non-null   object\n",
      " 7   condition            3241 non-null   object\n",
      " 8   primary_sex          3241 non-null   object\n",
      " 9   primary_age          3241 non-null   object\n",
      " 10  primary_dual         3241 non-null   object\n",
      " 11  fips                 3241 non-null   int64 \n",
      " 12  county               3205 non-null   object\n",
      " 13  state                3241 non-null   object\n",
      " 14  urban                3241 non-null   object\n",
      " 15  primary_race         3241 non-null   object\n",
      " 16  primary_eligibility  3241 non-null   object\n",
      " 17  primary_denominator  3241 non-null   object\n",
      " 18  analysis_value       3241 non-null   int64 \n",
      "dtypes: int64(3), object(16)\n",
      "memory usage: 481.2+ KB\n"
     ]
    }
   ],
   "source": [
    "\n",
    "# Use the raw URL to load the file\n",
    "url = \"https://raw.githubusercontent.com/EZags/Milliman-Project-2025/main/Prevalence%20of%20Depression%20Per%20County.csv\"\n",
    "depression_prevalence = pd.read_csv(url)\n",
    "\n",
    "\n",
    "# Display the DataFrame\n",
    "depression_prevalence.head()\n",
    "\n",
    "#Display information about the DataFrame\n",
    "depression_prevalence.info()"
   ]
  },
  {
   "cell_type": "code",
   "execution_count": 16,
   "metadata": {},
   "outputs": [
    {
     "name": "stdout",
     "output_type": "stream",
     "text": [
      "3241\n"
     ]
    },
    {
     "data": {
      "application/vnd.microsoft.datawrangler.viewer.v0+json": {
       "columns": [
        {
         "name": "index",
         "rawType": "int64",
         "type": "integer"
        },
        {
         "name": "year",
         "rawType": "int64",
         "type": "integer"
        },
        {
         "name": "measure",
         "rawType": "object",
         "type": "string"
        },
        {
         "name": "condition",
         "rawType": "object",
         "type": "string"
        },
        {
         "name": "fips",
         "rawType": "object",
         "type": "string"
        },
        {
         "name": "county",
         "rawType": "object",
         "type": "string"
        },
        {
         "name": "state",
         "rawType": "object",
         "type": "string"
        },
        {
         "name": "dep_prevalence",
         "rawType": "int64",
         "type": "integer"
        }
       ],
       "conversionMethod": "pd.DataFrame",
       "ref": "9f6ae551-9700-44c8-8b81-8d15d55ff5c5",
       "rows": [
        [
         "0",
         "2023",
         "Prevalence",
         "Depression",
         "01001",
         "Autauga County",
         "ALABAMA",
         "18"
        ],
        [
         "1",
         "2023",
         "Prevalence",
         "Depression",
         "01003",
         "Baldwin County",
         "ALABAMA",
         "18"
        ],
        [
         "2",
         "2023",
         "Prevalence",
         "Depression",
         "01005",
         "Barbour County",
         "ALABAMA",
         "19"
        ],
        [
         "3",
         "2023",
         "Prevalence",
         "Depression",
         "01007",
         "Bibb County",
         "ALABAMA",
         "24"
        ],
        [
         "4",
         "2023",
         "Prevalence",
         "Depression",
         "01009",
         "Blount County",
         "ALABAMA",
         "22"
        ],
        [
         "5",
         "2023",
         "Prevalence",
         "Depression",
         "01011",
         "Bullock County",
         "ALABAMA",
         "14"
        ],
        [
         "6",
         "2023",
         "Prevalence",
         "Depression",
         "01013",
         "Butler County",
         "ALABAMA",
         "15"
        ],
        [
         "7",
         "2023",
         "Prevalence",
         "Depression",
         "01015",
         "Calhoun County",
         "ALABAMA",
         "22"
        ],
        [
         "8",
         "2023",
         "Prevalence",
         "Depression",
         "01017",
         "Chambers County",
         "ALABAMA",
         "18"
        ],
        [
         "9",
         "2023",
         "Prevalence",
         "Depression",
         "01019",
         "Cherokee County",
         "ALABAMA",
         "25"
        ],
        [
         "10",
         "2023",
         "Prevalence",
         "Depression",
         "01021",
         "Chilton County",
         "ALABAMA",
         "21"
        ],
        [
         "11",
         "2023",
         "Prevalence",
         "Depression",
         "01023",
         "Choctaw County",
         "ALABAMA",
         "17"
        ],
        [
         "12",
         "2023",
         "Prevalence",
         "Depression",
         "01025",
         "Clarke County",
         "ALABAMA",
         "13"
        ],
        [
         "13",
         "2023",
         "Prevalence",
         "Depression",
         "01027",
         "Clay County",
         "ALABAMA",
         "19"
        ],
        [
         "14",
         "2023",
         "Prevalence",
         "Depression",
         "01029",
         "Cleburne County",
         "ALABAMA",
         "17"
        ]
       ],
       "shape": {
        "columns": 7,
        "rows": 15
       }
      },
      "text/html": [
       "<div>\n",
       "<style scoped>\n",
       "    .dataframe tbody tr th:only-of-type {\n",
       "        vertical-align: middle;\n",
       "    }\n",
       "\n",
       "    .dataframe tbody tr th {\n",
       "        vertical-align: top;\n",
       "    }\n",
       "\n",
       "    .dataframe thead th {\n",
       "        text-align: right;\n",
       "    }\n",
       "</style>\n",
       "<table border=\"1\" class=\"dataframe\">\n",
       "  <thead>\n",
       "    <tr style=\"text-align: right;\">\n",
       "      <th></th>\n",
       "      <th>year</th>\n",
       "      <th>measure</th>\n",
       "      <th>condition</th>\n",
       "      <th>fips</th>\n",
       "      <th>county</th>\n",
       "      <th>state</th>\n",
       "      <th>dep_prevalence</th>\n",
       "    </tr>\n",
       "  </thead>\n",
       "  <tbody>\n",
       "    <tr>\n",
       "      <th>0</th>\n",
       "      <td>2023</td>\n",
       "      <td>Prevalence</td>\n",
       "      <td>Depression</td>\n",
       "      <td>01001</td>\n",
       "      <td>Autauga County</td>\n",
       "      <td>ALABAMA</td>\n",
       "      <td>18</td>\n",
       "    </tr>\n",
       "    <tr>\n",
       "      <th>1</th>\n",
       "      <td>2023</td>\n",
       "      <td>Prevalence</td>\n",
       "      <td>Depression</td>\n",
       "      <td>01003</td>\n",
       "      <td>Baldwin County</td>\n",
       "      <td>ALABAMA</td>\n",
       "      <td>18</td>\n",
       "    </tr>\n",
       "    <tr>\n",
       "      <th>2</th>\n",
       "      <td>2023</td>\n",
       "      <td>Prevalence</td>\n",
       "      <td>Depression</td>\n",
       "      <td>01005</td>\n",
       "      <td>Barbour County</td>\n",
       "      <td>ALABAMA</td>\n",
       "      <td>19</td>\n",
       "    </tr>\n",
       "    <tr>\n",
       "      <th>3</th>\n",
       "      <td>2023</td>\n",
       "      <td>Prevalence</td>\n",
       "      <td>Depression</td>\n",
       "      <td>01007</td>\n",
       "      <td>Bibb County</td>\n",
       "      <td>ALABAMA</td>\n",
       "      <td>24</td>\n",
       "    </tr>\n",
       "    <tr>\n",
       "      <th>4</th>\n",
       "      <td>2023</td>\n",
       "      <td>Prevalence</td>\n",
       "      <td>Depression</td>\n",
       "      <td>01009</td>\n",
       "      <td>Blount County</td>\n",
       "      <td>ALABAMA</td>\n",
       "      <td>22</td>\n",
       "    </tr>\n",
       "    <tr>\n",
       "      <th>5</th>\n",
       "      <td>2023</td>\n",
       "      <td>Prevalence</td>\n",
       "      <td>Depression</td>\n",
       "      <td>01011</td>\n",
       "      <td>Bullock County</td>\n",
       "      <td>ALABAMA</td>\n",
       "      <td>14</td>\n",
       "    </tr>\n",
       "    <tr>\n",
       "      <th>6</th>\n",
       "      <td>2023</td>\n",
       "      <td>Prevalence</td>\n",
       "      <td>Depression</td>\n",
       "      <td>01013</td>\n",
       "      <td>Butler County</td>\n",
       "      <td>ALABAMA</td>\n",
       "      <td>15</td>\n",
       "    </tr>\n",
       "    <tr>\n",
       "      <th>7</th>\n",
       "      <td>2023</td>\n",
       "      <td>Prevalence</td>\n",
       "      <td>Depression</td>\n",
       "      <td>01015</td>\n",
       "      <td>Calhoun County</td>\n",
       "      <td>ALABAMA</td>\n",
       "      <td>22</td>\n",
       "    </tr>\n",
       "    <tr>\n",
       "      <th>8</th>\n",
       "      <td>2023</td>\n",
       "      <td>Prevalence</td>\n",
       "      <td>Depression</td>\n",
       "      <td>01017</td>\n",
       "      <td>Chambers County</td>\n",
       "      <td>ALABAMA</td>\n",
       "      <td>18</td>\n",
       "    </tr>\n",
       "    <tr>\n",
       "      <th>9</th>\n",
       "      <td>2023</td>\n",
       "      <td>Prevalence</td>\n",
       "      <td>Depression</td>\n",
       "      <td>01019</td>\n",
       "      <td>Cherokee County</td>\n",
       "      <td>ALABAMA</td>\n",
       "      <td>25</td>\n",
       "    </tr>\n",
       "    <tr>\n",
       "      <th>10</th>\n",
       "      <td>2023</td>\n",
       "      <td>Prevalence</td>\n",
       "      <td>Depression</td>\n",
       "      <td>01021</td>\n",
       "      <td>Chilton County</td>\n",
       "      <td>ALABAMA</td>\n",
       "      <td>21</td>\n",
       "    </tr>\n",
       "    <tr>\n",
       "      <th>11</th>\n",
       "      <td>2023</td>\n",
       "      <td>Prevalence</td>\n",
       "      <td>Depression</td>\n",
       "      <td>01023</td>\n",
       "      <td>Choctaw County</td>\n",
       "      <td>ALABAMA</td>\n",
       "      <td>17</td>\n",
       "    </tr>\n",
       "    <tr>\n",
       "      <th>12</th>\n",
       "      <td>2023</td>\n",
       "      <td>Prevalence</td>\n",
       "      <td>Depression</td>\n",
       "      <td>01025</td>\n",
       "      <td>Clarke County</td>\n",
       "      <td>ALABAMA</td>\n",
       "      <td>13</td>\n",
       "    </tr>\n",
       "    <tr>\n",
       "      <th>13</th>\n",
       "      <td>2023</td>\n",
       "      <td>Prevalence</td>\n",
       "      <td>Depression</td>\n",
       "      <td>01027</td>\n",
       "      <td>Clay County</td>\n",
       "      <td>ALABAMA</td>\n",
       "      <td>19</td>\n",
       "    </tr>\n",
       "    <tr>\n",
       "      <th>14</th>\n",
       "      <td>2023</td>\n",
       "      <td>Prevalence</td>\n",
       "      <td>Depression</td>\n",
       "      <td>01029</td>\n",
       "      <td>Cleburne County</td>\n",
       "      <td>ALABAMA</td>\n",
       "      <td>17</td>\n",
       "    </tr>\n",
       "  </tbody>\n",
       "</table>\n",
       "</div>"
      ],
      "text/plain": [
       "    year     measure   condition   fips           county    state  \\\n",
       "0   2023  Prevalence  Depression  01001   Autauga County  ALABAMA   \n",
       "1   2023  Prevalence  Depression  01003   Baldwin County  ALABAMA   \n",
       "2   2023  Prevalence  Depression  01005   Barbour County  ALABAMA   \n",
       "3   2023  Prevalence  Depression  01007      Bibb County  ALABAMA   \n",
       "4   2023  Prevalence  Depression  01009    Blount County  ALABAMA   \n",
       "5   2023  Prevalence  Depression  01011   Bullock County  ALABAMA   \n",
       "6   2023  Prevalence  Depression  01013    Butler County  ALABAMA   \n",
       "7   2023  Prevalence  Depression  01015   Calhoun County  ALABAMA   \n",
       "8   2023  Prevalence  Depression  01017  Chambers County  ALABAMA   \n",
       "9   2023  Prevalence  Depression  01019  Cherokee County  ALABAMA   \n",
       "10  2023  Prevalence  Depression  01021   Chilton County  ALABAMA   \n",
       "11  2023  Prevalence  Depression  01023   Choctaw County  ALABAMA   \n",
       "12  2023  Prevalence  Depression  01025    Clarke County  ALABAMA   \n",
       "13  2023  Prevalence  Depression  01027      Clay County  ALABAMA   \n",
       "14  2023  Prevalence  Depression  01029  Cleburne County  ALABAMA   \n",
       "\n",
       "    dep_prevalence  \n",
       "0               18  \n",
       "1               18  \n",
       "2               19  \n",
       "3               24  \n",
       "4               22  \n",
       "5               14  \n",
       "6               15  \n",
       "7               22  \n",
       "8               18  \n",
       "9               25  \n",
       "10              21  \n",
       "11              17  \n",
       "12              13  \n",
       "13              19  \n",
       "14              17  "
      ]
     },
     "execution_count": 16,
     "metadata": {},
     "output_type": "execute_result"
    }
   ],
   "source": [
    "#Remove unnecessary columns in the depression prevalence DataFrame\n",
    "depression_prevalence.rename(columns={\n",
    "    'analysis_value' : \"dep_prevalence\",\n",
    "}, inplace=True)\n",
    "depression_prevalence = depression_prevalence[['year','measure','condition','fips','county','state','dep_prevalence']]\n",
    "depression_prevalence['fips'] = depression_prevalence['fips'].astype(str).str.zfill(5)\n",
    "\n",
    "print(depression_prevalence.shape[0])\n",
    "depression_prevalence.head(15)"
   ]
  },
  {
   "cell_type": "code",
   "execution_count": 17,
   "metadata": {},
   "outputs": [
    {
     "data": {
      "text/plain": [
       "<Figure size 800x600 with 0 Axes>"
      ]
     },
     "execution_count": 17,
     "metadata": {},
     "output_type": "execute_result"
    },
    {
     "data": {
      "text/plain": [
       "(array([  11.,    8.,   80.,  297., 1033., 1069.,  637.,   91.,   13.,\n",
       "           2.]),\n",
       " array([ 0. ,  3.5,  7. , 10.5, 14. , 17.5, 21. , 24.5, 28. , 31.5, 35. ]),\n",
       " <BarContainer object of 10 artists>)"
      ]
     },
     "execution_count": 17,
     "metadata": {},
     "output_type": "execute_result"
    },
    {
     "data": {
      "text/plain": [
       "Text(0.5, 1.0, 'Histogram of COPD Prevalence')"
      ]
     },
     "execution_count": 17,
     "metadata": {},
     "output_type": "execute_result"
    },
    {
     "data": {
      "text/plain": [
       "Text(0.5, 0, 'Depression Prevalence')"
      ]
     },
     "execution_count": 17,
     "metadata": {},
     "output_type": "execute_result"
    },
    {
     "data": {
      "text/plain": [
       "Text(0, 0.5, 'Number of Counties')"
      ]
     },
     "execution_count": 17,
     "metadata": {},
     "output_type": "execute_result"
    },
    {
     "data": {
      "image/png": "[encoded data removed]",
      "text/plain": [
       "<Figure size 800x600 with 1 Axes>"
      ]
     },
     "metadata": {},
     "output_type": "display_data"
    }
   ],
   "source": [
    "# Plot the histogram of depression_prevalence\n",
    "plt.figure(figsize=(8, 6))  # Set figure size\n",
    "plt.hist(depression_prevalence[\"dep_prevalence\"], bins=10, color=\"skyblue\", edgecolor=\"black\")\n",
    "plt.title(\"Histogram of COPD Prevalence\")\n",
    "plt.xlabel(\"Depression Prevalence\")\n",
    "plt.ylabel(\"Number of Counties\")\n",
    "plt.grid(axis=\"y\", linestyle=\"--\", alpha=0.7)  # Optional grid for clarity\n",
    "plt.show()"
   ]
  },
  {
   "cell_type": "code",
   "execution_count": null,
   "metadata": {},
   "outputs": [],
   "source": [
    "#Asahi\n",
    "#Emilio"
   ]
  },
  {
   "cell_type": "code",
   "execution_count": null,
   "metadata": {},
   "outputs": [],
   "source": []
  }
 ],
 "metadata": {
  "kernelspec": {
   "display_name": "Python 3",
   "language": "python",
   "name": "python3"
  },
  "language_info": {
   "codemirror_mode": {
    "name": "ipython",
    "version": 3
   },
   "file_extension": ".py",
   "mimetype": "text/x-python",
   "name": "python",
   "nbconvert_exporter": "python",
   "pygments_lexer": "ipython3",
   "version": "3.13.2"
  }
 },
 "nbformat": 4,
 "nbformat_minor": 2
}
